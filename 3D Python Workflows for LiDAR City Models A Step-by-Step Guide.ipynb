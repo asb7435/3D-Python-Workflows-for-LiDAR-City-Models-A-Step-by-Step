{
 "cells": [
  {
   "cell_type": "code",
   "execution_count": 1,
   "id": "5214da4f-252a-46c3-a99c-8b0f286c0c9c",
   "metadata": {
    "tags": []
   },
   "outputs": [
    {
     "name": "stdout",
     "output_type": "stream",
     "text": [
      "Jupyter environment detected. Enabling Open3D WebVisualizer.\n",
      "[Open3D INFO] WebRTC GUI backend enabled.\n",
      "[Open3D INFO] WebRTCWindowSystem: HTTP handshake server disabled.\n",
      "Open 3D Version: 0.18.0\n"
     ]
    }
   ],
   "source": [
    "import numpy as np\n",
    "import pandas as pd\n",
    "import open3d as o3d\n",
    "import matplotlib.pyplot as plt\n",
    "from shapely.geometry import Polygon\n",
    "\n",
    "print(f\"Open 3D Version: {o3d.__version__}\")"
   ]
  },
  {
   "cell_type": "code",
   "execution_count": 2,
   "id": "ae52c167-0399-4b94-a565-4ba2849c53a0",
   "metadata": {
    "tags": []
   },
   "outputs": [],
   "source": [
    "pc_dataset=\"./project.xyz\"\n",
    "mesh_dataset=\"./project.obj\"\n",
    "result_folder=\"./\""
   ]
  },
  {
   "cell_type": "code",
   "execution_count": 3,
   "id": "72f8b952-7610-4072-9c06-911e676159f4",
   "metadata": {
    "tags": []
   },
   "outputs": [
    {
     "name": "stdout",
     "output_type": "stream",
     "text": [
      "Index(['//X', 'Y', 'Z', 'R', 'G', 'B', 'Classification'], dtype='object')\n"
     ]
    }
   ],
   "source": [
    "pcd_df= pd.read_csv(pc_dataset, delimiter=\";\")\n",
    "print(pcd_df.columns)"
   ]
  },
  {
   "cell_type": "code",
   "execution_count": 4,
   "id": "f96f651b-75c8-4cf3-9ea6-575d03f73de1",
   "metadata": {
    "tags": []
   },
   "outputs": [],
   "source": [
    "pcd_o3d=o3d.geometry.PointCloud(o3d.utility.Vector3dVector(np.array(pcd_df[['//X','Y','Z']])))"
   ]
  },
  {
   "cell_type": "code",
   "execution_count": 5,
   "id": "9c1fd459-8162-43f3-89c2-3cbdfe6e9e7e",
   "metadata": {
    "tags": []
   },
   "outputs": [],
   "source": [
    "pcd_o3d.colors = o3d.utility.Vector3dVector( np.array( pcd_df[['R','G','B']]) / 255 )"
   ]
  },
  {
   "cell_type": "code",
   "execution_count": 6,
   "id": "f1066021-ff25-4b54-bde0-fe88e2d49698",
   "metadata": {
    "tags": []
   },
   "outputs": [
    {
     "data": {
      "text/plain": [
       "TriangleMesh with 2273 points and 2135 triangles."
      ]
     },
     "execution_count": 6,
     "metadata": {},
     "output_type": "execute_result"
    }
   ],
   "source": [
    "mesh=o3d.io.read_triangle_mesh(mesh_dataset)\n",
    "mesh.paint_uniform_color([0.9,0.9,0.9])"
   ]
  },
  {
   "cell_type": "code",
   "execution_count": 7,
   "id": "3b50b1e5-5952-4fc5-85f6-d35ad15d5f90",
   "metadata": {
    "tags": []
   },
   "outputs": [],
   "source": [
    "o3d.visualization.draw_geometries([pcd_o3d,mesh])"
   ]
  },
  {
   "cell_type": "code",
   "execution_count": 8,
   "id": "2d39c4ff-e7ae-425b-843f-c62ce01b9db6",
   "metadata": {
    "tags": []
   },
   "outputs": [],
   "source": [
    "# 1=미분류, 2=지상, 6=건물, 9=물, 26=휴식\n",
    "pcd_df['Classification'].unique()\n",
    "colors=np.zeros((len(pcd_df), 3))\n",
    "colors[pcd_df['Classification'] == 2] = [0,0,0]\n",
    "colors[pcd_df['Classification'] == 6] = [1,0,0]\n",
    "colors[pcd_df['Classification'] == 9] = [0,0,0]\n",
    "colors[pcd_df['Classification'] == 26] = [0,0,0]\n",
    "pcd_o3d.colors = o3d.utility.Vector3dVector(colors)"
   ]
  },
  {
   "cell_type": "code",
   "execution_count": 9,
   "id": "ed27e89e-aa3a-400f-a761-e4bf2e70efc1",
   "metadata": {
    "tags": []
   },
   "outputs": [],
   "source": [
    "# KD-트리 데이터 구조 생성\n",
    "pcd_tree = o3d.geometry.KDTreeFlann(pcd_o3d)"
   ]
  },
  {
   "cell_type": "code",
   "execution_count": 38,
   "id": "6c9e417e-ed8f-488d-93b5-d04d1b7e9e93",
   "metadata": {
    "tags": []
   },
   "outputs": [],
   "source": [
    "# 1. 거리 임계값 설정\n",
    "dist_POI = 50\n",
    "# 2. 메쉬의 중심 좌표를 POI로 설정\n",
    "POI=mesh.get_center()"
   ]
  },
  {
   "cell_type": "code",
   "execution_count": 44,
   "id": "a5159680-f159-4146-b051-c90c170f38b9",
   "metadata": {
    "tags": []
   },
   "outputs": [],
   "source": [
    "# KD-트리를 사용하여 POI(집)로부터의 거리에 따른 포인트 선택\n",
    "[k, idx, _] = pcd_tree.search_radius_vector_3d(POI, dist_POI)\n",
    "pcd_selection=pcd_o3d.select_by_index(idx)"
   ]
  },
  {
   "cell_type": "code",
   "execution_count": 46,
   "id": "7987314a-4ddd-4660-ab66-654b31f3c523",
   "metadata": {
    "tags": []
   },
   "outputs": [],
   "source": [
    "o3d.visualization.draw_geometries([pcd_selection,mesh])"
   ]
  },
  {
   "cell_type": "code",
   "execution_count": 48,
   "id": "17ac2783-e678-4cf0-baed-61144cbfcd6a",
   "metadata": {
    "tags": []
   },
   "outputs": [
    {
     "name": "stdout",
     "output_type": "stream",
     "text": [
      "[Open3D INFO] Clearing all points from selection.\n",
      "[Open3D INFO] Adding point #1764 (120749.12, 487591.67, 12.12) to selection.\n",
      "[Open3D INFO] Adding point #2268 (120765.05, 487615.53, 14.36) to selection.\n",
      "[Open3D INFO] Adding point #2612 (120787.21, 487603.90, 8.76) to selection.\n",
      "[Open3D WARNING] GLFW Error: WGL: Failed to make context current: 요청한 변환 작업을 지원할 수 없습니다. \n",
      "[Open3D INFO] Adding point #746 (120768.32, 487575.79, 2.96) to selection.\n"
     ]
    }
   ],
   "source": [
    "o3d.visualization.draw_geometries_with_vertex_selection([pcd_selection])"
   ]
  },
  {
   "cell_type": "code",
   "execution_count": 54,
   "id": "9b47665b-68ae-4758-86c1-e5351aecf338",
   "metadata": {
    "tags": []
   },
   "outputs": [],
   "source": [
    "o3d_parcel_corners=pcd_selection.select_by_index([1764  ,2268  ,2612  ,746])"
   ]
  },
  {
   "cell_type": "code",
   "execution_count": 56,
   "id": "0e5f3738-84ad-4bc6-b4ae-e0dee7ec45c6",
   "metadata": {
    "tags": []
   },
   "outputs": [
    {
     "data": {
      "image/svg+xml": [
       "<svg xmlns=\"http://www.w3.org/2000/svg\" xmlns:xlink=\"http://www.w3.org/1999/xlink\" width=\"100.0\" height=\"100.0\" viewBox=\"120747.5303952056 487574.2004010056 41.26922667879262 42.91919768875232\" preserveAspectRatio=\"xMinYMin meet\"><g transform=\"matrix(1,0,0,-1,0,975191.3199997)\"><path fill-rule=\"evenodd\" fill=\"#66cc99\" stroke=\"#555555\" stroke-width=\"0.8583839537750464\" opacity=\"0.6\" d=\"M 120768.32000732,487575.79000092 L 120749.11999512,487591.66999817 L 120765.04998779,487615.52999878 L 120787.21002197,487603.90000153 L 120768.32000732,487575.79000092 z\" /></g></svg>"
      ],
      "text/plain": [
       "<POLYGON ((120768.32 487575.79, 120749.12 487591.67, 120765.05 487615.53, 12...>"
      ]
     },
     "execution_count": 56,
     "metadata": {},
     "output_type": "execute_result"
    }
   ],
   "source": [
    "o3d_parcel_corners=np.array(o3d_parcel_corners.points)[:,:2]\n",
    "Polygon(o3d_parcel_corners)"
   ]
  },
  {
   "cell_type": "code",
   "execution_count": 57,
   "id": "fa696194-749e-4e2f-8b09-f34c86734012",
   "metadata": {
    "tags": []
   },
   "outputs": [
    {
     "name": "stdout",
     "output_type": "stream",
     "text": [
      "이것은 얻은 소포 면적입니다: 776.8449676724545 m²\n"
     ]
    }
   ],
   "source": [
    "pgon = Polygon(o3d_parcel_corners) \n",
    "print ( f\"이것은 얻은 소포 면적입니다: {pgon.area} m²\" )"
   ]
  },
  {
   "cell_type": "code",
   "execution_count": 58,
   "id": "33fe5966-2b2a-4d0e-9dec-5c0000afe53d",
   "metadata": {
    "tags": []
   },
   "outputs": [],
   "source": [
    "def sort_coordinates(XY):\n",
    "    cx, cy = XY.mean(0)\n",
    "    x, y = XY.T\n",
    "    angles = np.arctan2(x-cx, y-cy)\n",
    "    indices = np.argsort(-angles)\n",
    "    return XY[indices]"
   ]
  },
  {
   "cell_type": "code",
   "execution_count": 59,
   "id": "7039e421-0e14-4891-805f-b2991e28cf22",
   "metadata": {
    "tags": []
   },
   "outputs": [
    {
     "name": "stdout",
     "output_type": "stream",
     "text": [
      "This is the parcel area: 776.8449676724545 m²\n"
     ]
    }
   ],
   "source": [
    "np_sorted_2D_corners=sort_coordinates(o3d_parcel_corners)\n",
    "pgon = Polygon(np_sorted_2D_corners)\n",
    "Polygon(np_sorted_2D_corners)\n",
    "print(f\"This is the parcel area: {pgon.area} m²\")"
   ]
  },
  {
   "cell_type": "code",
   "execution_count": 60,
   "id": "be366241-ac29-4713-bf49-a1a82cd4b494",
   "metadata": {
    "tags": []
   },
   "outputs": [
    {
     "data": {
      "text/plain": [
       "array([ 1.2073525e+05,  4.8755321e+05, -4.1999999e-01])"
      ]
     },
     "execution_count": 60,
     "metadata": {},
     "output_type": "execute_result"
    }
   ],
   "source": [
    "pcd_selection.get_max_bound()\n",
    "pcd_selection.get_min_bound()"
   ]
  },
  {
   "cell_type": "code",
   "execution_count": 69,
   "id": "340027e4-7633-478e-8ba1-9d1ce073d9b6",
   "metadata": {
    "tags": []
   },
   "outputs": [],
   "source": [
    "np_pcd_selection=np.array(pcd_selection.points)\n",
    "lowest_point_index=np.argmin(np_pcd_selection[:,2])\n",
    "highest_point_index=np.argmax(np_pcd_selection[:,2])"
   ]
  },
  {
   "cell_type": "code",
   "execution_count": 70,
   "id": "a96ffb9e-c7f5-4514-8f52-e71c02482f5f",
   "metadata": {
    "tags": []
   },
   "outputs": [],
   "source": [
    "# We create 3D Spheres to add them to our visual scene\n",
    "lp=o3d.geometry.TriangleMesh.create_sphere()\n",
    "hp=o3d.geometry.TriangleMesh.create_sphere()\n",
    "\n",
    "# We translate the 3D Spheres to the correct position\n",
    "lp.translate(np_pcd_selection[lowest_point_index])\n",
    "hp.translate(np_pcd_selection[highest_point_index])\n",
    "\n",
    "# We compute some normals and give color to each 3D Sphere\n",
    "lp.compute_vertex_normals()\n",
    "lp.paint_uniform_color([0.8,0.1,0.1])\n",
    "hp.compute_vertex_normals()\n",
    "hp.paint_uniform_color([0.1,0.1,0.8])\n",
    "\n",
    "# We generate the scene\n",
    "o3d.visualization.draw_geometries([pcd_selection,lp,hp])"
   ]
  },
  {
   "cell_type": "code",
   "execution_count": 67,
   "id": "cf2f5859-6adf-46ad-825b-72bc3f6c06b1",
   "metadata": {
    "tags": []
   },
   "outputs": [],
   "source": [
    "voxel_grid = o3d.geometry.VoxelGrid.create_from_point_cloud(pcd_selection, voxel_size=1)\n",
    "o3d.visualization.draw_geometries([voxel_grid])"
   ]
  },
  {
   "cell_type": "code",
   "execution_count": 72,
   "id": "c302cbf0-275d-4b0a-9fe1-f2bc2864737a",
   "metadata": {
    "tags": []
   },
   "outputs": [],
   "source": [
    "colors=np.zeros((len(pcd_df), 3))\n",
    "colors[pcd_df['Classification'] == 6] = [1, 0, 0]\n",
    "pcd_o3d.colors = o3d.utility.Vector3dVector(colors)"
   ]
  },
  {
   "cell_type": "code",
   "execution_count": 74,
   "id": "7144e4b6-e337-4a87-85e6-3d21ba071359",
   "metadata": {
    "tags": []
   },
   "outputs": [],
   "source": [
    "# Defining the POI and the center of study\n",
    "dist_POI=50\n",
    "POI=mesh.get_center()\n",
    "\n",
    "# Querying all the points that fall within based on a KD-Tree\n",
    "pcd_tree = o3d.geometry.KDTreeFlann(pcd_o3d)\n",
    "[k, idx, _] = pcd_tree.search_radius_vector_3d(POI, dist_POI)\n",
    "pcd_selection=pcd_o3d.select_by_index(idx)\n",
    "\n",
    "#Computing the voxel grid and visualizing the results\n",
    "voxel_grid = o3d.geometry.VoxelGrid.create_from_point_cloud(pcd_selection, voxel_size=1)\n",
    "o3d.visualization.draw_geometries([voxel_grid])"
   ]
  },
  {
   "cell_type": "code",
   "execution_count": 76,
   "id": "b53aad5e-38cb-4be8-bb2d-5d8ad764b3b7",
   "metadata": {
    "tags": []
   },
   "outputs": [],
   "source": [
    "idx_voxels=[v.grid_index for v in voxel_grid.get_voxels()]\n",
    "color_voxels=[v.color for v in voxel_grid.get_voxels()]\n",
    "bounds_voxels=[np.min(idx_voxels, axis=0),np.max(idx_voxels, axis=0)]"
   ]
  },
  {
   "cell_type": "code",
   "execution_count": 77,
   "id": "78749d51-1c76-479b-8ce0-32faa1d14ae9",
   "metadata": {
    "tags": []
   },
   "outputs": [],
   "source": [
    "max_voxel={}\n",
    "max_color={}"
   ]
  },
  {
   "cell_type": "code",
   "execution_count": 78,
   "id": "ecdde8b2-c2fa-4e11-920f-9e8141406255",
   "metadata": {
    "tags": []
   },
   "outputs": [],
   "source": [
    "for idx, v in enumerate(idx_voxels):\n",
    "    if (v[0],v[1]) in max_voxel.keys():\n",
    "        if v[2]>max_voxel[(v[0],v[1])]:\n",
    "            max_voxel[(v[0],v[1])]=v[2]\n",
    "            max_color[(v[0],v[1])]=color_voxels[idx]\n",
    "    else:\n",
    "        max_voxel[(v[0],v[1])]=v[2]\n",
    "        max_color[(v[0],v[1])]=color_voxels[idx]"
   ]
  },
  {
   "cell_type": "code",
   "execution_count": 80,
   "id": "26c447f5-ee37-45d6-9776-ed37e478b72c",
   "metadata": {
    "tags": []
   },
   "outputs": [],
   "source": [
    "count_building_coverage,count_non_building=0,0\n",
    "for col in list(max_color.values()):\n",
    "    if np.all(col==0):\n",
    "        count_non_building+=1\n",
    "    else:\n",
    "        count_building_coverage+=1"
   ]
  },
  {
   "cell_type": "code",
   "execution_count": 81,
   "id": "4249b0f9-9e51-498e-b9d2-46a67e405340",
   "metadata": {
    "tags": []
   },
   "outputs": [
    {
     "name": "stdout",
     "output_type": "stream",
     "text": [
      "Coverage of Buildings: 0 m²\n",
      "Coverage of the Rest: 11236 m²\n",
      "Built Ratio: 0.0 m²\n"
     ]
    }
   ],
   "source": [
    "print(f\"Coverage of Buildings: {count_building_coverage*4} m²\")   \n",
    "print(f\"Coverage of the Rest: {count_non_building*4} m²\")\n",
    "print(f\"Built Ratio: {(count_building_coverage*4)/(count_building_coverage*2+count_non_building*2)} m²\") "
   ]
  },
  {
   "cell_type": "code",
   "execution_count": null,
   "id": "992ab90c-ce89-4c42-a25a-f56306f5bde8",
   "metadata": {},
   "outputs": [],
   "source": []
  }
 ],
 "metadata": {
  "kernelspec": {
   "display_name": "Python 3 (ipykernel)",
   "language": "python",
   "name": "python3"
  },
  "language_info": {
   "codemirror_mode": {
    "name": "ipython",
    "version": 3
   },
   "file_extension": ".py",
   "mimetype": "text/x-python",
   "name": "python",
   "nbconvert_exporter": "python",
   "pygments_lexer": "ipython3",
   "version": "3.11.5"
  }
 },
 "nbformat": 4,
 "nbformat_minor": 5
}
