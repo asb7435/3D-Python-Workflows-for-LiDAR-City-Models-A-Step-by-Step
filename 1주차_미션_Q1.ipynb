{
  "cells": [
    {
      "cell_type": "markdown",
      "metadata": {
        "id": "view-in-github",
        "colab_type": "text"
      },
      "source": [
        "<a href=\"https://colab.research.google.com/github/asb7435/3D-Python-Workflows-for-LiDAR-City-Models-A-Step-by-Step/blob/main/1%EC%A3%BC%EC%B0%A8_%EB%AF%B8%EC%85%98_Q1.ipynb\" target=\"_parent\"><img src=\"https://colab.research.google.com/assets/colab-badge.svg\" alt=\"Open In Colab\"/></a>"
      ]
    },
    {
      "cell_type": "markdown",
      "id": "59c4e9b3-6f92-473b-b876-c765a4d0018a",
      "metadata": {
        "id": "59c4e9b3-6f92-473b-b876-c765a4d0018a"
      },
      "source": [
        "# 👍👍1주차 미션 목적 - 데이터 사이언스를 위한 파이썬과 판다스 동기부여"
      ]
    },
    {
      "cell_type": "markdown",
      "id": "b7811791-9e3e-4eff-aea7-9b740b654f58",
      "metadata": {
        "id": "b7811791-9e3e-4eff-aea7-9b740b654f58"
      },
      "source": [
        "#### 📌Q1. 여러분은 파이썬을 통해 설문조사 문항의 응답내역을 분석하게 되었습니다. 문항별 응답내용에는 하나의 응답만 할 수 있는 single choice 문제와 여러 응답을 선택할 수 있는 multiple choice 문제가 있습니다. 2개를 구분하기 위해 single choice 문항 번호에 \"_\"를 표기하지 않기로 했습니다.\n",
        "\n",
        "#### 문항별 응답내역이 'question'에 담겨 있을 때, 조건문과 반복문을 사용하여 아래와 같은 결과가 출력되도록 코드를 작성해보세요."
      ]
    },
    {
      "cell_type": "code",
      "execution_count": null,
      "id": "b7435e79-77a2-4a4a-9b60-c5375b84d7c3",
      "metadata": {
        "id": "b7435e79-77a2-4a4a-9b60-c5375b84d7c3",
        "outputId": "b1ffb884-1830-4ff8-b888-16b7a484e600"
      },
      "outputs": [
        {
          "name": "stdout",
          "output_type": "stream",
          "text": [
            "single choice questions: ['Q2', 'Q3', 'Q4', 'Q5', 'Q8', 'Q9']\n",
            "multiple choice questions: ['Q6_1', 'Q6_2', 'Q6_3', 'Q6_4', 'Q6_5', 'Q6_6', 'Q6_7', 'Q6_8', 'Q6_9', 'Q6_10', 'Q6_11', 'Q6_12', 'Q7_1', 'Q7_2', 'Q7_3', 'Q7_4', 'Q7_5', 'Q7_6', 'Q7_7', 'Q10_1', 'Q10_2', 'Q10_3']\n"
          ]
        }
      ],
      "source": [
        "# 응답 설문 문항\n",
        "question = ['Q2', 'Q3', 'Q4', 'Q5', 'Q6_1', 'Q6_2', 'Q6_3', 'Q6_4', 'Q6_5', 'Q6_6',\n",
        "       'Q6_7', 'Q6_8', 'Q6_9', 'Q6_10', 'Q6_11', 'Q6_12', 'Q7_1', 'Q7_2',\n",
        "       'Q7_3', 'Q7_4', 'Q7_5', 'Q7_6', 'Q7_7', 'Q8', 'Q9', 'Q10_1', 'Q10_2',\n",
        "       'Q10_3']\n",
        "# Single choice와 Multiple choice 문항을 저장할 리스트\n",
        "single_choice_questions = []\n",
        "multiple_choice_questions = []\n",
        "\n",
        "# 문항을 반복문으로 순회하며 구분\n",
        "for q in question:\n",
        "    if '_' in q:\n",
        "        multiple_choice_questions.append(q)\n",
        "    else:\n",
        "        single_choice_questions.append(q)\n",
        "\n",
        "# 결과 출력\n",
        "print(f'single choice questions:',single_choice_questions)"
      ]
    },
    {
      "cell_type": "code",
      "execution_count": null,
      "id": "1d75adc7-b296-4ee5-ac49-43df613458ed",
      "metadata": {
        "id": "1d75adc7-b296-4ee5-ac49-43df613458ed"
      },
      "outputs": [],
      "source": []
    }
  ],
  "metadata": {
    "kernelspec": {
      "display_name": "Python 3 (ipykernel)",
      "language": "python",
      "name": "python3"
    },
    "language_info": {
      "codemirror_mode": {
        "name": "ipython",
        "version": 3
      },
      "file_extension": ".py",
      "mimetype": "text/x-python",
      "name": "python",
      "nbconvert_exporter": "python",
      "pygments_lexer": "ipython3",
      "version": "3.8.18"
    },
    "colab": {
      "provenance": [],
      "include_colab_link": true
    }
  },
  "nbformat": 4,
  "nbformat_minor": 5
}